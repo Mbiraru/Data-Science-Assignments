{
 "cells": [
  {
   "cell_type": "code",
   "execution_count": null,
   "id": "9545f79e",
   "metadata": {},
   "outputs": [],
   "source": [
    "1. Pick any two built-in methods and for each method you have selected:\n",
    "a. Create an example list for each\n",
    "b. Use the method on the list you have created\n",
    "For example:\n",
    "fruits = [‘apples’,‘bananas’]\n",
    "fruits.append(‘oranges’)"
   ]
  },
  {
   "cell_type": "code",
   "execution_count": 1,
   "id": "d7b48c9a",
   "metadata": {},
   "outputs": [
    {
     "name": "stdout",
     "output_type": "stream",
     "text": [
      "['banana', 'apple', 'Waba', 'cow', 'peas', 'gas', 1, 2, 3, 4, 5, 1, 1, 1, 1, 1, 1, 1, 1, 2, 3, 4, 5, 1, 1, 1, 1, 1, 1, 1]\n"
     ]
    }
   ],
   "source": [
    "list_1=[\"banana\",\"apple\",\"cow\",\"peas\",\"gas\"]\n",
    "price = [1,2,3,4,5,1,1,1,1,1,1,1]\n",
    "\n",
    "list_1.insert(2,\"Waba\")\n",
    "list_1.extend(price)\n",
    "\n",
    "random = list_1.copy()+price.copy()\n",
    "print(random)"
   ]
  },
  {
   "cell_type": "code",
   "execution_count": null,
   "id": "f70fecc0",
   "metadata": {},
   "outputs": [],
   "source": [
    "2. Write a program to turn every item of a list into its square.\n",
    "a. Create a list named Numbers\n",
    "b. Add 5 numbers into the list Numbers\n",
    "c. Print the output\n",
    "For example:\n",
    "Numbers = [3,6,8]\n",
    "Expected output:\n",
    "[9,36,64]\n",
    "Hint: loop, list method append()"
   ]
  },
  {
   "cell_type": "code",
   "execution_count": 2,
   "id": "76362636",
   "metadata": {},
   "outputs": [
    {
     "name": "stdout",
     "output_type": "stream",
     "text": [
      "[9, 144, 16, 484, 225]\n"
     ]
    }
   ],
   "source": [
    "numbers = [3, 12, 4, 22, 15]\n",
    "\n",
    "squared_numbers = [number ** 2 for number in numbers]\n",
    "\n",
    "print(squared_numbers)"
   ]
  },
  {
   "cell_type": "code",
   "execution_count": null,
   "id": "80724d04",
   "metadata": {},
   "outputs": [],
   "source": [
    "3. Reverse a list in Python\n",
    "a. Given the list below, reverse the elements\n",
    "List_of_nums = [1,2,3,4,5]\n",
    "Expected output:\n",
    "[5,4,3,2,1]\n",
    "Hint: list method reverse()"
   ]
  },
  {
   "cell_type": "code",
   "execution_count": 3,
   "id": "ec4096b7",
   "metadata": {},
   "outputs": [
    {
     "name": "stdout",
     "output_type": "stream",
     "text": [
      "[15, 22, 4, 12, 3]\n"
     ]
    }
   ],
   "source": [
    "numbers = [3, 12, 4, 22, 15]\n",
    "\n",
    "numbers.reverse()\n",
    "\n",
    "print(numbers)"
   ]
  },
  {
   "cell_type": "code",
   "execution_count": null,
   "id": "d9a7667c",
   "metadata": {},
   "outputs": [],
   "source": [
    "1. Write a Python script to concatenate following dictionaries to create a new one\n",
    "dic1={1:10,2:20}\n",
    "dic2={3:30,4:40}\n",
    "dic3={5:50,6:60}\n",
    "Expected output: {1: 10, 2: 20, 3: 30, 4: 40, 5: 50, 6: 60}\n",
    "Hint: loop, dictionary method update()"
   ]
  },
  {
   "cell_type": "code",
   "execution_count": 4,
   "id": "a299901d",
   "metadata": {},
   "outputs": [
    {
     "name": "stdout",
     "output_type": "stream",
     "text": [
      "{1: 10, 2: 20, 3: 30, 4: 40, 5: 50, 6: 60}\n"
     ]
    }
   ],
   "source": [
    "dic1={1:10,2:20}\n",
    "dic2={3:30,4:40}\n",
    "dic3={5:50,6:60}\n",
    "dic4 = {**dic1,**dic2, **dic3}\n",
    "print(dic4)"
   ]
  }
 ],
 "metadata": {
  "kernelspec": {
   "display_name": "Python 3",
   "language": "python",
   "name": "python3"
  },
  "language_info": {
   "codemirror_mode": {
    "name": "ipython",
    "version": 3
   },
   "file_extension": ".py",
   "mimetype": "text/x-python",
   "name": "python",
   "nbconvert_exporter": "python",
   "pygments_lexer": "ipython3",
   "version": "3.8.8"
  }
 },
 "nbformat": 4,
 "nbformat_minor": 5
}

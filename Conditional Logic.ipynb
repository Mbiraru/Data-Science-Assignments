{
 "cells": [
  {
   "cell_type": "code",
   "execution_count": null,
   "id": "d05ca90a",
   "metadata": {},
   "outputs": [],
   "source": [
    "Question 1: A shop will give discount of 15% if the cost of purchased quantity is more than 1000. Ask user for quantity.\n",
    "Suppose, one unit will cost 300 Judge and print total cost for user."
   ]
  },
  {
   "cell_type": "code",
   "execution_count": 2,
   "id": "98656e5b",
   "metadata": {},
   "outputs": [
    {
     "name": "stdout",
     "output_type": "stream",
     "text": [
      "Enter the quantity you want to purchase: 1001\n",
      "Your total is 255255\n"
     ]
    }
   ],
   "source": [
    "Quantity = int(input(\"Enter the quantity you want to purchase: \"))\n",
    "\n",
    "if Quantity>1000:\n",
    "    Amount = Quantity * int(300-(300*0.15))\n",
    "    print(\"Your total is \" + str(Amount))\n",
    "else:\n",
    "    Amount = Quantity * 300\n",
    "    print(\"Your total is \" + str(Amount))"
   ]
  },
  {
   "cell_type": "code",
   "execution_count": null,
   "id": "832eea33",
   "metadata": {},
   "outputs": [],
   "source": [
    "Question 2: A school has following rules for grading system\n",
    "a. Below 25 - F\n",
    "b. 25 to 45 - E\n",
    "c. 45 to 50 - D\n",
    "d. 50 to 60 - C\n",
    "e. 60 to 80 - B\n",
    "f. Above 80 - A\n",
    "Ask user to enter marks and print the corresponding grade."
   ]
  },
  {
   "cell_type": "code",
   "execution_count": 3,
   "id": "bcfec91f",
   "metadata": {},
   "outputs": [
    {
     "name": "stdout",
     "output_type": "stream",
     "text": [
      "Enter your grade: 20\n",
      "Your grade is F\n"
     ]
    }
   ],
   "source": [
    "Marks = int(input(\"Enter your grade: \"))\n",
    "\n",
    "if Marks <0:\n",
    "    print(\"Invalid!\")\n",
    "elif Marks in range(0,25):\n",
    "    print(\"Your grade is F\")\n",
    "elif Marks in range(25,45):\n",
    "    print(\"Your grade is E\")\n",
    "elif Marks in range(45,50):\n",
    "    print(\"Your grade is D\")\n",
    "elif Marks in range(50,60):\n",
    "    print(\"Your grade is C\")\n",
    "elif Marks in range(60,80):\n",
    "    print(\"Your grade is B\")\n",
    "elif Marks in range(80,101):\n",
    "    print(\"Your grade is A\")\n",
    "else:\n",
    "    print(\"Invalid!\")"
   ]
  },
  {
   "cell_type": "code",
   "execution_count": null,
   "id": "4d4dc9da",
   "metadata": {},
   "outputs": [],
   "source": [
    "Question 3: Write a program to check whether the last digit of a number (entered by user) is \n",
    "Divisible by 3 or not."
   ]
  },
  {
   "cell_type": "code",
   "execution_count": 5,
   "id": "12e7f254",
   "metadata": {},
   "outputs": [
    {
     "name": "stdout",
     "output_type": "stream",
     "text": [
      "Enter a number to check if last number is divisible by 3: 133\n",
      "Divisible by 3\n"
     ]
    }
   ],
   "source": [
    "Number = int(input(\"Enter a number to check if last number is divisible by 3: \"))\n",
    "\n",
    "if Number < 0:\n",
    "    print(\"Invalid !!\")\n",
    "else:\n",
    "    Check = int(repr(Number)[-1])\n",
    "    if Check % 3 == 0:\n",
    "        print(\"Divisible by 3\")\n",
    "    else:\n",
    "        print(\"Not divisible by 3\")"
   ]
  }
 ],
 "metadata": {
  "kernelspec": {
   "display_name": "Python 3",
   "language": "python",
   "name": "python3"
  },
  "language_info": {
   "codemirror_mode": {
    "name": "ipython",
    "version": 3
   },
   "file_extension": ".py",
   "mimetype": "text/x-python",
   "name": "python",
   "nbconvert_exporter": "python",
   "pygments_lexer": "ipython3",
   "version": "3.8.8"
  }
 },
 "nbformat": 4,
 "nbformat_minor": 5
}
